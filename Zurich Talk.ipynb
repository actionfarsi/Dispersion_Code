{
 "cells": [
  {
   "cell_type": "code",
   "execution_count": 1,
   "metadata": {
    "collapsed": false
   },
   "outputs": [],
   "source": [
    "from zhinst import ziPython\n",
    "from numpy import *\n",
    "from matplotlib import pylab as pl\n",
    "\n",
    "from scipy import io as spio\n",
    "from scipy import signal\n",
    "\n",
    "from scipy import fftpack, ndimage\n",
    "from ipywidgets import widgets\n",
    "\n",
    "\n",
    "daq = ziPython.ziDAQServer('localhost',8004 )\n",
    "device = 'dev2201'\n",
    "daq.connectDevice('DEV2201','usb') \n",
    "\n",
    "daq.subscribe('/dev2201/demods/0/sample')\n",
    "daq.subscribe('/dev2201/demods/1/sample')"
   ]
  },
  {
   "cell_type": "code",
   "execution_count": 13,
   "metadata": {
    "collapsed": false
   },
   "outputs": [
    {
     "name": "stdout",
     "output_type": "stream",
     "text": [
      "Demod channels at 25 MHz ,100 MHz\n",
      "/dev2201/DEMODS/0/\n",
      "/dev2201/DEMODS/1/\n"
     ]
    }
   ],
   "source": [
    "# This block of code sets lockin-parameters. Make sure to play with these settings\n",
    "# if you are using a new laser, or sweeping at a different rate\n",
    "\n",
    "\n",
    "# # These seem optimum for the Agilent Laser, at 500 pm/s\n",
    "# freq = 25e6       #Demodulation frequency\n",
    "# datarate = 200000#Data Collection Rate\n",
    "# timeconstant = 1/1500e3 #lowpass time constant (limits the scan speed)\n",
    "# harmonics = [1,4] #Slects which harmonics of the demodulation freq to use (25MHz and 100Mhz in this case) \n",
    "\n",
    "\n",
    "# These seem optimum for the CTL Laser, at 1500 pm/s\n",
    "freq = 25e6        #Demodulation frequency\n",
    "datarate = 200000  #Data Collection Rate\n",
    "timeconstant = 1/9000e3 #lowpass time constant (limits the scan speed)\n",
    "harmonics = [1,4] #Slects which harmonics of the demodulation freq to use (25MHz and 100Mhz in this case) \n",
    "\n",
    "\n",
    "\n",
    "print('Demod channels at '+ ' ,'.join(['{:.0f} MHz'.format(i*freq/1e6) for i in harmonics]))\n",
    "\n",
    "#configuration\n",
    "## Set the measurement\n",
    "for i in range(2):\n",
    "    code = '/{:}/DEMODS/{:}/'.format(device,i)\n",
    "    print(code)\n",
    "    daq.set([(code+'rate',datarate),\n",
    "             (code+'harmonic',harmonics[i]),\n",
    "             (code+'order',2),\n",
    "             (code+'timeconstant',timeconstant),\n",
    "             (code+'enable',True),\n",
    "     ])\n",
    "    daq.subscribe(code+'sample')"
   ]
  },
  {
   "cell_type": "markdown",
   "metadata": {},
   "source": [
    "## Start the measurement"
   ]
  },
  {
   "cell_type": "code",
   "execution_count": 64,
   "metadata": {
    "collapsed": false
   },
   "outputs": [],
   "source": [
    "#this collects data, namely R^2 of each lockin channel, and Aux in, which is the transmission\n",
    "\n",
    "# take XX seconds of data, and saves it to filename.mat\n",
    "scan_duration=50\n",
    "filename='12_8_2016_Pratham_1530_1570_TE_type2a4r1_6'\n",
    "\n",
    "# Will start collecting immediately after running this block\n",
    "\n",
    "daq.flush()\n",
    "ch1 = []\n",
    "ch1_t = []\n",
    "ch2 = []\n",
    "ch2_t = []\n",
    "trans = []\n",
    "trans_t = []\n",
    "for i in range(scan_duration): # collect X seconds of data\n",
    "    data = daq.poll(1,1)\n",
    "    ch1.append(data['dev2201']['demods']['0']['sample']['x']**2 + data['dev2201']['demods']['0']['sample']['y']**2)\n",
    "    ch2.append(data['dev2201']['demods']['1']['sample']['x']**2 + data['dev2201']['demods']['1']['sample']['y']**2)\n",
    "    trans.append(data['dev2201']['demods']['0']['sample']['auxin0'])\n",
    "    ch1_t.append(data['dev2201']['demods']['0']['sample']['timestamp'])\n",
    "    ch2_t.append(data['dev2201']['demods']['1']['sample']['timestamp'])\n",
    "    trans_t.append(data['dev2201']['demods']['0']['sample']['timestamp'])\n",
    "    \n",
    "ch1 = hstack(ch1)\n",
    "ch2 = hstack(ch2)\n",
    "ch1_t = hstack(ch1_t)\n",
    "ch2_t = hstack(ch2_t)\n",
    "trans = hstack(trans)\n",
    "trans_t = hstack(trans_t)\n",
    "\n",
    "\n",
    "spio.savemat(filename+'.mat', {'ch1':vstack([ch1_t, ch1]),\n",
    "                           'ch2':vstack([ch2_t, ch2]),\n",
    "                           'trans':vstack([trans_t, trans]),\n",
    "                      'freq': freq, 'channels': ['ch1','ch2'], 'harmonics': harmonics},\n",
    "             do_compression = True)"
   ]
  }
 ],
 "metadata": {
  "anaconda-cloud": {},
  "kernelspec": {
   "display_name": "Python [Root]",
   "language": "python",
   "name": "Python [Root]"
  },
  "language_info": {
   "codemirror_mode": {
    "name": "ipython",
    "version": 3
   },
   "file_extension": ".py",
   "mimetype": "text/x-python",
   "name": "python",
   "nbconvert_exporter": "python",
   "pygments_lexer": "ipython3",
   "version": "3.5.2"
  }
 },
 "nbformat": 4,
 "nbformat_minor": 0
}
